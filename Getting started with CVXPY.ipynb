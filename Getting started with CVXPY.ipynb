{
 "cells": [
  {
   "cell_type": "markdown",
   "metadata": {},
   "source": [
    "# Getting started with CVXPY"
   ]
  },
  {
   "cell_type": "markdown",
   "metadata": {},
   "source": [
    "## Install CVXPY using pip"
   ]
  },
  {
   "cell_type": "code",
   "execution_count": 1,
   "metadata": {
    "ExecuteTime": {
     "start_time": "2023-06-07T14:15:20.856039Z",
     "end_time": "2023-06-07T14:15:22.979419Z"
    }
   },
   "outputs": [
    {
     "name": "stdout",
     "output_type": "stream",
     "text": [
      "Requirement already satisfied: cvxpy in /Users/joachimsecher/.pyenv/versions/3.10.10/envs/cvx/lib/python3.10/site-packages (1.3.1)\r\n",
      "Collecting cvxopt\r\n",
      "  Downloading cvxopt-1.3.1-cp310-cp310-macosx_13_0_arm64.whl (11.1 MB)\r\n",
      "\u001B[2K     \u001B[90m━━━━━━━━━━━━━━━━━━━━━━━━━━━━━━━━━━━━━━━━\u001B[0m \u001B[32m11.1/11.1 MB\u001B[0m \u001B[31m12.4 MB/s\u001B[0m eta \u001B[36m0:00:00\u001B[0m00:01\u001B[0m00:01\u001B[0m\r\n",
      "\u001B[?25hRequirement already satisfied: osqp>=0.4.1 in /Users/joachimsecher/.pyenv/versions/3.10.10/envs/cvx/lib/python3.10/site-packages (from cvxpy) (0.6.3)\r\n",
      "Requirement already satisfied: ecos>=2 in /Users/joachimsecher/.pyenv/versions/3.10.10/envs/cvx/lib/python3.10/site-packages (from cvxpy) (2.0.12)\r\n",
      "Requirement already satisfied: scs>=1.1.6 in /Users/joachimsecher/.pyenv/versions/3.10.10/envs/cvx/lib/python3.10/site-packages (from cvxpy) (3.2.3)\r\n",
      "Requirement already satisfied: numpy>=1.15 in /Users/joachimsecher/.pyenv/versions/3.10.10/envs/cvx/lib/python3.10/site-packages (from cvxpy) (1.24.3)\r\n",
      "Requirement already satisfied: scipy>=1.1.0 in /Users/joachimsecher/.pyenv/versions/3.10.10/envs/cvx/lib/python3.10/site-packages (from cvxpy) (1.10.1)\r\n",
      "Requirement already satisfied: setuptools>65.5.1 in /Users/joachimsecher/.pyenv/versions/3.10.10/envs/cvx/lib/python3.10/site-packages (from cvxpy) (67.8.0)\r\n",
      "Requirement already satisfied: qdldl in /Users/joachimsecher/.pyenv/versions/3.10.10/envs/cvx/lib/python3.10/site-packages (from osqp>=0.4.1->cvxpy) (0.1.7)\r\n",
      "Installing collected packages: cvxopt\r\n",
      "Successfully installed cvxopt-1.3.1\r\n"
     ]
    }
   ],
   "source": [
    "!pip install cvxpy cvxopt"
   ]
  },
  {
   "cell_type": "markdown",
   "metadata": {},
   "source": [
    "## Set up and solve problem instance \n",
    "\n",
    "\\begin{align*}\n",
    "    \\begin{array}{ll}\n",
    "    \\mbox{minimize} & (x-y)^2 \\\\\n",
    "    \\mbox{subject to} & x + y = 1\\\\\n",
    "    & x-y >= 1\n",
    "    \\end{array}\n",
    "\\end{align*}"
   ]
  },
  {
   "cell_type": "code",
   "execution_count": 1,
   "metadata": {},
   "outputs": [
    {
     "name": "stdout",
     "output_type": "stream",
     "text": [
      "minimize power(var0 + -var1, 2.0)\n",
      "subject to var0 + var1 == 1.0\n",
      "           1.0 <= var0 + -var1\n"
     ]
    }
   ],
   "source": [
    "from cvxpy import *\n",
    "\n",
    "x = Variable()\n",
    "y = Variable()\n",
    "constraints = [x + y == 1, x - y >= 1]\n",
    "obj = Minimize(square(x - y))\n",
    "prob = Problem(obj, constraints)\n",
    "print(prob)\n",
    "print()"
   ]
  },
  {
   "cell_type": "code",
   "execution_count": 2,
   "metadata": {},
   "outputs": [
    {
     "data": {
      "text/plain": [
       "0.9999999950875766"
      ]
     },
     "execution_count": 2,
     "metadata": {},
     "output_type": "execute_result"
    }
   ],
   "source": [
    "prob.solve(solver='CVXOPT')"
   ]
  },
  {
   "cell_type": "code",
   "execution_count": 3,
   "metadata": {},
   "outputs": [
    {
     "data": {
      "text/plain": [
       "array(1.)"
      ]
     },
     "execution_count": 3,
     "metadata": {},
     "output_type": "execute_result"
    }
   ],
   "source": [
    "x.value"
   ]
  },
  {
   "cell_type": "code",
   "execution_count": 4,
   "metadata": {},
   "outputs": [
    {
     "data": {
      "text/plain": [
       "array(7.51662847e-10)"
      ]
     },
     "execution_count": 4,
     "metadata": {},
     "output_type": "execute_result"
    }
   ],
   "source": [
    "y.value"
   ]
  }
 ],
 "metadata": {
  "kernelspec": {
   "display_name": "Python 3",
   "language": "python",
   "name": "python3"
  },
  "language_info": {
   "codemirror_mode": {
    "name": "ipython",
    "version": 3
   },
   "file_extension": ".py",
   "mimetype": "text/x-python",
   "name": "python",
   "nbconvert_exporter": "python",
   "pygments_lexer": "ipython3",
   "version": "3.7.6"
  }
 },
 "nbformat": 4,
 "nbformat_minor": 4
}

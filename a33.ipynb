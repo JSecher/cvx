{
 "cells": [
  {
   "cell_type": "markdown",
   "source": [
    "# Code for A3.3\n",
    "Setup:"
   ],
   "metadata": {
    "collapsed": false
   }
  },
  {
   "cell_type": "code",
   "execution_count": 1,
   "outputs": [
    {
     "data": {
      "text/plain": "'results/a33'"
     },
     "execution_count": 1,
     "metadata": {},
     "output_type": "execute_result"
    }
   ],
   "source": [
    "import cvxpy as cp\n",
    "import numpy as np\n",
    "import matplotlib.pyplot as plt\n",
    "import utils\n",
    "\n",
    "# Problem name and setup\n",
    "problem_name = 'a33'\n",
    "utils.create_output_dir(problem_name)"
   ],
   "metadata": {
    "collapsed": false,
    "ExecuteTime": {
     "start_time": "2023-06-07T15:42:21.862916Z",
     "end_time": "2023-06-07T15:42:22.601925Z"
    }
   }
  },
  {
   "cell_type": "markdown",
   "source": [
    "## Reformulate the following problem as a convex optimization problem and solve it using CVXPY:"
   ],
   "metadata": {
    "collapsed": false
   }
  },
  {
   "cell_type": "markdown",
   "source": [
    "### a) `norm([x + 2*y, x - y]) == 0`\n",
    "We choose the objective $(x-y)^2$\n",
    "\n",
    "We must have that all individual elements in the norm must be 0, for the norm to be 0.\n",
    "We can rewrite it as:\n",
    "``x + 2*y == 0`` and ``x - y == 0``"
   ],
   "metadata": {
    "collapsed": false
   }
  },
  {
   "cell_type": "code",
   "execution_count": 2,
   "outputs": [
    {
     "name": "stdout",
     "output_type": "stream",
     "text": [
      "minimize var1 + var2\n",
      "subject to var1 + 2.0 @ var2 == 0.0\n",
      "           var1 + -var2 == 0.0\n",
      "status: optimal\n",
      "optimal value -0.0\n",
      "optimal var -0.0 -0.0\n"
     ]
    }
   ],
   "source": [
    "x = cp.Variable()\n",
    "y = cp.Variable()\n",
    "constraints = [x + 2*y == 0, x - y == 0]\n",
    "obj = cp.Minimize(x + y)\n",
    "prob = cp.Problem(obj, constraints)\n",
    "print(prob)\n",
    "prob.solve(solver='CVXOPT')\n",
    "print(\"status:\", prob.status)\n",
    "print(\"optimal value\", prob.value)\n",
    "print(\"optimal var\", x.value, y.value)\n"
   ],
   "metadata": {
    "collapsed": false,
    "ExecuteTime": {
     "start_time": "2023-06-07T15:22:51.606176Z",
     "end_time": "2023-06-07T15:22:51.652712Z"
    }
   }
  },
  {
   "cell_type": "markdown",
   "source": [
    "### b) `square(square(x + y)) <= x - y`\n",
    "\n",
    "Works in CVXPY.\n"
   ],
   "metadata": {
    "collapsed": false
   }
  },
  {
   "cell_type": "code",
   "execution_count": 3,
   "outputs": [
    {
     "name": "stdout",
     "output_type": "stream",
     "text": [
      "minimize power(var34 + -var35, 2.0)\n",
      "subject to power(power(var34 + var35, 2.0), 2.0) <= var34 + -var35\n",
      "status: optimal\n",
      "optimal value 0.0\n",
      "optimal var 0.0 0.0\n"
     ]
    }
   ],
   "source": [
    "x = cp.Variable()\n",
    "y = cp.Variable()\n",
    "constraints = [cp.square(cp.square(x + y)) <= x - y]\n",
    "obj = cp.Minimize(cp.square(x - y))\n",
    "prob = cp.Problem(obj, constraints)\n",
    "print(prob)\n",
    "prob.solve(solver='CVXOPT', verbose=False)\n",
    "print(\"status:\", prob.status)\n",
    "print(\"optimal value\", prob.value)\n",
    "print(\"optimal var\", x.value, y.value)"
   ],
   "metadata": {
    "collapsed": false,
    "ExecuteTime": {
     "start_time": "2023-06-07T15:22:51.625360Z",
     "end_time": "2023-06-07T15:22:51.653152Z"
    }
   }
  },
  {
   "cell_type": "markdown",
   "source": [
    "### c) `1/x + 1/y <= 1; x >= 0; y >= 0`\n",
    "\n",
    "We can rewrite the contraints using `inv_pos` to let CVXPY know that the variables are positive.\n"
   ],
   "metadata": {
    "collapsed": false
   }
  },
  {
   "cell_type": "code",
   "execution_count": 4,
   "outputs": [
    {
     "name": "stdout",
     "output_type": "stream",
     "text": [
      "minimize power(var96 + -var97, 2.0)\n",
      "subject to power(var96, -1.0) + power(var97, -1.0) <= 1.0\n",
      "           0.0 <= var96\n",
      "           0.0 <= var97\n",
      "status: optimal\n",
      "optimal value 0.0\n",
      "optimal var 2.876932063275612 2.876932063275612\n"
     ]
    }
   ],
   "source": [
    "x = cp.Variable()\n",
    "y = cp.Variable()\n",
    "constraints = [cp.inv_pos(x) + cp.inv_pos(y) <= 1, x >= 0, y >= 0]\n",
    "obj = cp.Minimize(cp.square(x - y))\n",
    "prob = cp.Problem(obj, constraints)\n",
    "print(prob)\n",
    "prob.solve(solver='CVXOPT', verbose=False)\n",
    "print(\"status:\", prob.status)\n",
    "print(\"optimal value\", prob.value)\n",
    "print(\"optimal var\", x.value, y.value)"
   ],
   "metadata": {
    "collapsed": false,
    "ExecuteTime": {
     "start_time": "2023-06-07T15:22:51.636505Z",
     "end_time": "2023-06-07T15:22:51.653486Z"
    }
   }
  },
  {
   "cell_type": "markdown",
   "source": [
    "### d) `norm([max(x,1), max(y,2)]) <= 3*x + y`\n",
    "\n",
    "We can rewrite the constraints using new variables `t1` and `t2` and the `maximum` function.\n",
    "\n",
    "`max(x, 1) <= t1`, `max(y, 2) <= t2`, and then `norm([t1, t2]) <= 3*x + y`"
   ],
   "metadata": {
    "collapsed": false
   }
  },
  {
   "cell_type": "markdown",
   "source": [],
   "metadata": {
    "collapsed": false
   }
  },
  {
   "cell_type": "code",
   "execution_count": 5,
   "outputs": [
    {
     "name": "stdout",
     "output_type": "stream",
     "text": [
      "minimize power(var174 + -var175, 2.0)\n",
      "subject to maximum(var174, 1.0) <= var176\n",
      "           maximum(var175, 2.0) <= var177\n",
      "           Pnorm(reshape(Vstack(var176, var177), (2,), F), 2) <= 3.0 @ var174 + var175\n",
      "status: optimal\n",
      "optimal value 5.4186277455528323e-11\n",
      "optimal var 1.682741542802232 1.6827489039351242\n"
     ]
    }
   ],
   "source": [
    "x = cp.Variable()\n",
    "y = cp.Variable()\n",
    "t1 = cp.Variable()\n",
    "t2 = cp.Variable()\n",
    "constraints = [cp.maximum(x, 1) <= t1, cp.maximum(y, 2) <= t2, cp.norm(cp.vstack([t1, t2])) <= 3*x + y]\n",
    "obj = cp.Minimize(cp.square(x - y))\n",
    "prob = cp.Problem(obj, constraints)\n",
    "print(prob)\n",
    "prob.solve(solver='CVXOPT', verbose=False)\n",
    "print(\"status:\", prob.status)\n",
    "print(\"optimal value\", prob.value)\n",
    "print(\"optimal var\", x.value, y.value)"
   ],
   "metadata": {
    "collapsed": false,
    "ExecuteTime": {
     "start_time": "2023-06-07T15:22:51.659772Z",
     "end_time": "2023-06-07T15:22:51.671450Z"
    }
   }
  },
  {
   "cell_type": "markdown",
   "source": [
    "### e)  `x*y >= 1; x >= 0; y >= 0`\n",
    "\n",
    "We rewrite the constraint using `inv_pos` to let CVXPY know that the variables are positive.\n",
    "Rewrite it to`x >= 1/y` and keep `x >= 0; y >= 0`"
   ],
   "metadata": {
    "collapsed": false
   }
  },
  {
   "cell_type": "code",
   "execution_count": 6,
   "outputs": [
    {
     "name": "stdout",
     "output_type": "stream",
     "text": [
      "minimize power(var273 + -var274, 2.0)\n",
      "subject to power(var274, -1.0) <= var273\n",
      "           0.0 <= var273\n",
      "           0.0 <= var274\n",
      "status: optimal\n",
      "optimal value 8.918693446870146e-12\n",
      "optimal var 2.0214388339364175 2.021441820354581\n"
     ]
    }
   ],
   "source": [
    "x = cp.Variable()\n",
    "y = cp.Variable()\n",
    "t1 = cp.Variable()\n",
    "t2 = cp.Variable()\n",
    "constraints = [x >= cp.inv_pos(y), x >= 0, y >= 0]\n",
    "obj = cp.Minimize(cp.square(x - y))\n",
    "prob = cp.Problem(obj, constraints)\n",
    "print(prob)\n",
    "prob.solve(solver='CVXOPT', verbose=False)\n",
    "print(\"status:\", prob.status)\n",
    "print(\"optimal value\", prob.value)\n",
    "print(\"optimal var\", x.value, y.value)"
   ],
   "metadata": {
    "collapsed": false,
    "ExecuteTime": {
     "start_time": "2023-06-07T15:22:51.677420Z",
     "end_time": "2023-06-07T15:22:51.711351Z"
    }
   }
  },
  {
   "cell_type": "markdown",
   "source": [
    "### f) `(x + y)^2/sqrt(y) <= x - y + 5`\n",
    "\n",
    "Use `quad_over_lin` to rewrite the constraint.\n"
   ],
   "metadata": {
    "collapsed": false
   }
  },
  {
   "cell_type": "code",
   "execution_count": 9,
   "outputs": [
    {
     "name": "stdout",
     "output_type": "stream",
     "text": [
      "minimize power(var435 + -var436, 2.0)\n",
      "subject to quad_over_lin(power(var435 + var436, 2.0), power(var436, 0.5)) <= var435 + -var436 + 5.0\n",
      "status: optimal\n",
      "optimal value 1.059317549594448e-09\n",
      "optimal var 0.1943922357276592 0.19442478288651516\n"
     ]
    }
   ],
   "source": [
    "x = cp.Variable()\n",
    "y = cp.Variable()\n",
    "t = cp.Variable()\n",
    "constraints = [cp.quad_over_lin(cp.square(x+y), cp.sqrt(y)) <= (x - y + 5)]\n",
    "obj = cp.Minimize(cp.square(x - y))\n",
    "prob = cp.Problem(obj, constraints)\n",
    "print(prob)\n",
    "prob.solve(solver='CVXOPT', verbose=False)\n",
    "print(\"status:\", prob.status)\n",
    "print(\"optimal value\", prob.value)\n",
    "print(\"optimal var\", x.value, y.value)"
   ],
   "metadata": {
    "collapsed": false,
    "ExecuteTime": {
     "start_time": "2023-06-07T15:37:18.089482Z",
     "end_time": "2023-06-07T15:37:18.132242Z"
    }
   }
  },
  {
   "cell_type": "markdown",
   "source": [
    "### g) `x^3 + y^3 <= 1; x >= 0; y >= 0`\n",
    "\n",
    "We can rewrite the constraint using ` power(pos(x), p)` to let CVXPY know that the variables are positive.\n",
    "But also works out of the box.\n"
   ],
   "metadata": {
    "collapsed": false
   }
  },
  {
   "cell_type": "code",
   "execution_count": 11,
   "outputs": [
    {
     "name": "stdout",
     "output_type": "stream",
     "text": [
      "minimize power(var646 + -var647, 2.0)\n",
      "subject to power(maximum(var646, 0.0), 3.0) + power(maximum(var647, 0.0), 3.0) <= 1.0\n",
      "           0.0 <= var646\n",
      "           0.0 <= var647\n",
      "status: optimal\n",
      "optimal value 0.0\n",
      "optimal var 0.0 0.0\n"
     ]
    }
   ],
   "source": [
    "x = cp.Variable()\n",
    "y = cp.Variable()\n",
    "constraints = [cp.power(cp.pos(x), 3) + cp.power(cp.pos(y), 3) <= 1, x >= 0, y >= 0]\n",
    "obj = cp.Minimize(cp.square(x - y))\n",
    "prob = cp.Problem(obj, constraints)\n",
    "print(prob)\n",
    "prob.solve(solver='CVXOPT', verbose=False)\n",
    "print(\"status:\", prob.status)\n",
    "print(\"optimal value\", prob.value)\n",
    "print(\"optimal var\", x.value, y.value)"
   ],
   "metadata": {
    "collapsed": false,
    "ExecuteTime": {
     "start_time": "2023-06-07T15:40:09.915920Z",
     "end_time": "2023-06-07T15:40:09.917536Z"
    }
   }
  },
  {
   "cell_type": "markdown",
   "source": [
    "### h) `x + z <= 1 + sqrt(x*y - z^2); x >= 0; y >= 0`\n"
   ],
   "metadata": {
    "collapsed": false
   }
  },
  {
   "cell_type": "code",
   "execution_count": null,
   "outputs": [],
   "source": [],
   "metadata": {
    "collapsed": false
   }
  },
  {
   "cell_type": "code",
   "execution_count": 16,
   "outputs": [
    {
     "name": "stdout",
     "output_type": "stream",
     "text": [
      "minimize power(var333 + -var334, 2.0)\n",
      "subject to var333 + var335 <= 1.0 + geo_mean(Vstack(var334, var333 + -quad_over_lin(var335, var334)), (1/2, 1/2))\n",
      "           0.0 <= var333\n",
      "           0.0 <= var334\n",
      "status: optimal\n",
      "optimal value 3.533736078664506e-10\n",
      "optimal var 0.485675468562073 0.48569426679624184 -0.035630440022492216\n"
     ]
    }
   ],
   "source": [
    "x = cp.Variable()\n",
    "y = cp.Variable()\n",
    "z = cp.Variable()\n",
    "constraints = [x + z <= 1+cp.geo_mean(cp.vstack([y, x - cp.quad_over_lin(z,y)])), x >= 0, y >= 0]\n",
    "obj = cp.Minimize(cp.square(x - y))\n",
    "prob = cp.Problem(obj, constraints)\n",
    "print(prob)\n",
    "prob.solve(solver='CVXOPT', verbose=False)\n",
    "print(\"status:\", prob.status)\n",
    "print(\"optimal value\", prob.value)\n",
    "print(\"optimal var\", x.value, y.value, z.value)"
   ],
   "metadata": {
    "collapsed": false,
    "ExecuteTime": {
     "start_time": "2023-06-07T15:59:45.714992Z",
     "end_time": "2023-06-07T15:59:45.783068Z"
    }
   }
  },
  {
   "cell_type": "code",
   "execution_count": null,
   "outputs": [],
   "source": [],
   "metadata": {
    "collapsed": false
   }
  }
 ],
 "metadata": {
  "kernelspec": {
   "display_name": "Python 3",
   "language": "python",
   "name": "python3"
  },
  "language_info": {
   "codemirror_mode": {
    "name": "ipython",
    "version": 2
   },
   "file_extension": ".py",
   "mimetype": "text/x-python",
   "name": "python",
   "nbconvert_exporter": "python",
   "pygments_lexer": "ipython2",
   "version": "2.7.6"
  }
 },
 "nbformat": 4,
 "nbformat_minor": 0
}
